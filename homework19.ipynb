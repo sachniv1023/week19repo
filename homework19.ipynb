{
 "cells": [
  {
   "cell_type": "markdown",
   "id": "1ec8e219",
   "metadata": {},
   "source": [
    "### 1.Create a study guide for all the supervised learning models we have gone over. Include information about how the algorithms work, how they are evaluated, and any other information you deem necessary. Use your own words. Do NOT copy mine or that of articles we have read.\n"
   ]
  },
  {
   "cell_type": "markdown",
   "id": "c5e46f15",
   "metadata": {},
   "source": [
    "#### Supervised Learning"
   ]
  },
  {
   "cell_type": "markdown",
   "id": "b964d1da",
   "metadata": {},
   "source": [
    "How it works:\n",
    "    \n",
    "    This algorithm consist of a target / outcome variable (or dependent variable) which is to be predicted from a given set of predictors (independent variables). Using these set of variables, we generate a function that map inputs to desired outputs. The training process continues until the model achieves a desired level of accuracy on the training data. Examples of Supervised Learning: Regression, Decision Tree, Random Forest, KNN, Logistic Regression etc.\n",
    "    \n",
    "     supervised learning algorithm we predict y with the maximum accuracy for a given new input x\n",
    "     All data is labeled and the algorithms learn to predict the output from the input data.\n",
    "     \n",
    "     in supervised learning we divided data in two different steps\n",
    "     1) training set\n",
    "     2) testing set\n",
    "     "
   ]
  },
  {
   "cell_type": "markdown",
   "id": "5650894e",
   "metadata": {},
   "source": [
    "#### Different Types of Supervised Learning models"
   ]
  },
  {
   "cell_type": "markdown",
   "id": "da27aa68",
   "metadata": {},
   "source": [
    "\n",
    " *Regression- In regression, a single output value is produced using training data.\n",
    "    \n",
    " *Classification- It involves grouping the data into classes. \n",
    "\n",
    " *Naive Bayesian Model. \n",
    "    \n",
    " *Random Forest Model. \n",
    "\n",
    " *Neural Networks. \n",
    "    \n",
    " *Support Vector Machines.\n"
   ]
  },
  {
   "cell_type": "markdown",
   "id": "0a281332",
   "metadata": {},
   "source": [
    "#### The supervised algorithms \n",
    "\n",
    "    Linear Regression\n",
    "\n",
    "    Logistic Regression\n",
    "\n",
    "    Naïve-Bayes\n",
    "\n",
    "    K-Nearest Neighbors (KNN) \n",
    "\n",
    "    Ensembling is another type of supervised learning"
   ]
  },
  {
   "cell_type": "markdown",
   "id": "afaf4510",
   "metadata": {},
   "source": [
    "### 2.Do the same as question 1 except for unsupervised learning models. Something that is necessary for many models is determining number, so specify how you determine the number of clusters for example. Apply this concept to any other algorithms it is relevant for."
   ]
  },
  {
   "cell_type": "markdown",
   "id": "b10a0dd7",
   "metadata": {},
   "source": [
    "#### What is unsupervised machine learning?"
   ]
  },
  {
   "cell_type": "markdown",
   "id": "616fb45d",
   "metadata": {},
   "source": [
    "Unsupervised learning is a type of machine learning algorithm that brings order to the dataset and makes sense of data.\n",
    "\n",
    "Unsupervised machine learning algorithms are used to group unstructured data according to its similarities and distinct patterns in the dataset.\n",
    "\n",
    "All data is unlabeled and the algorithms learn to inherent structure from the input data."
   ]
  },
  {
   "cell_type": "markdown",
   "id": "18ffe81e",
   "metadata": {},
   "source": [
    "#### How does an unsupervised ML algorithm work?"
   ]
  },
  {
   "cell_type": "markdown",
   "id": "688b066e",
   "metadata": {},
   "source": [
    "The unsupervised algorithm works with unlabeled data. \n",
    "unsupervised learning applies two major techniques - clustering and dimensionality reduction."
   ]
  },
  {
   "cell_type": "markdown",
   "id": "2c385a6f",
   "metadata": {},
   "source": [
    "#### Clustering - Exploration of Data\n",
    "it is used for exploration of data\n",
    "\n",
    "Grouping unlabeled examples is called clustering.\n",
    "\n",
    "If the examples are labeled, then clustering becomes classification."
   ]
  },
  {
   "cell_type": "markdown",
   "id": "0b960427",
   "metadata": {},
   "source": [
    "#### Dimensionality Reduction - Making Data Digestible"
   ]
  },
  {
   "cell_type": "markdown",
   "id": "8d050da5",
   "metadata": {},
   "source": [
    "\n",
    "\n",
    "---in this technique the process is to getting rid of the unnecessary information.\n",
    "\n",
    "---for cleaning data Dimentionality Reduction technique is used.\n",
    "\n",
    "---It reduces the processes to decreases the complexity of the data\n",
    "\n",
    "--unsupervised machine learning operations\n"
   ]
  },
  {
   "cell_type": "markdown",
   "id": "55b9adcc",
   "metadata": {},
   "source": [
    "#### --unsupervised machine learning operations\n",
    "\n",
    "k-means Clustering - Data Mining\n",
    "\n",
    "Hidden Markov Model - Pattern Recognition, Natural Language Processing, Data Analytics\n",
    "\n",
    "DBSCAN Clustering - Customer Service Personalization, Recommender engines\n",
    "\n",
    "Principal component analysis (PCA)\n",
    "\n",
    "Singular value decomposition (SVD) "
   ]
  },
  {
   "cell_type": "markdown",
   "id": "9496568b",
   "metadata": {},
   "source": [
    "#### we described different methods for choosing the optimal number of clusters in a data set. \n",
    "\n",
    "These methods include\n",
    "\n",
    "the elbow method\n",
    "\n",
    "X-means clustering(like k mean clustering)\n",
    "\n",
    "the silhouette\n",
    "\n",
    "the gap statistic methods\n",
    "\n",
    "Cross-validation"
   ]
  },
  {
   "cell_type": "markdown",
   "id": "3e5f27a1",
   "metadata": {},
   "source": [
    "#### Dimensionality Reduction Algorithum"
   ]
  },
  {
   "cell_type": "code",
   "execution_count": 184,
   "id": "8a4c844f",
   "metadata": {},
   "outputs": [
    {
     "name": "stdout",
     "output_type": "stream",
     "text": [
      "[4 1 0 ... 0 3 0]\n",
      "test accuracy: 0.9754224270353302\n",
      "train accuracy: 0.9634507737899243\n"
     ]
    }
   ],
   "source": [
    "# Import necessary modules\n",
    "from sklearn.linear_model import LogisticRegression\n",
    "from sklearn.preprocessing import StandardScaler\n",
    "\n",
    "\n",
    "X = df_pca[[0,1]]\n",
    "Y = df_pca['Clusters']\n",
    "\n",
    "X_train, X_test, y_train, y_test = train_test_split(X, Y, test_size=0.3, random_state=42, stratify=Y)\n",
    "\n",
    "#Standardize\n",
    "sc= StandardScaler()\n",
    "X_train=sc.fit_transform(X_train)\n",
    "X_test=sc.fit_transform(X_test)\n",
    "\n",
    "# Logistic Regression\n",
    "clr = LogisticRegression(random_state=42).fit(X_train, y_train)\n",
    "\n",
    "#predict\n",
    "y_predicted= clr.predict(X_test)\n",
    "print(y_predicted)\n",
    "\n",
    "# Print the accuracy\n",
    "print(\"test accuracy: \" + str(clr.score(X_test, y_test)))\n",
    "\n",
    "# Print the accuracy\n",
    "print(\"train accuracy: \" + str(clr.score(X_train, y_train)))"
   ]
  },
  {
   "cell_type": "code",
   "execution_count": 185,
   "id": "5778ff96",
   "metadata": {},
   "outputs": [
    {
     "data": {
      "text/plain": [
       "<sklearn.metrics._plot.confusion_matrix.ConfusionMatrixDisplay at 0x209d7396af0>"
      ]
     },
     "execution_count": 185,
     "metadata": {},
     "output_type": "execute_result"
    },
    {
     "data": {
      "image/png": "[encoded data removed]",
      "text/plain": [
       "<Figure size 432x288 with 2 Axes>"
      ]
     },
     "metadata": {
      "needs_background": "light"
     },
     "output_type": "display_data"
    }
   ],
   "source": [
    "from sklearn.metrics import confusion_matrix, plot_confusion_matrix,classification_report\n",
    "plot_confusion_matrix(clr, X_test, y_test)"
   ]
  },
  {
   "cell_type": "markdown",
   "id": "567ead7f",
   "metadata": {},
   "source": [
    "#### Singular value decomposition (SVD) "
   ]
  },
  {
   "cell_type": "code",
   "execution_count": 186,
   "id": "a59ec70d",
   "metadata": {},
   "outputs": [
    {
     "name": "stdout",
     "output_type": "stream",
     "text": [
      "0.42607836680935135\n",
      "0.6129032258064516\n"
     ]
    }
   ],
   "source": [
    "from sklearn.decomposition import TruncatedSVD\n",
    "\n",
    "svd = TruncatedSVD(n_components=1)\n",
    "\n",
    "X_train_svd=svd.fit_transform(X_train)\n",
    "X_test_svd=svd.fit_transform(X_test)\n",
    "\n",
    "clr = LogisticRegression(random_state=42).fit(X_train_svd, y_train)\n",
    "print(clr.score(X_train_svd,y_train))\n",
    "\n",
    "clr = LogisticRegression(random_state=42).fit(X_test_svd, y_test)\n",
    "print(clr.score(X_test_svd,y_test))"
   ]
  },
  {
   "cell_type": "markdown",
   "id": "f7ef07c6",
   "metadata": {},
   "source": [
    "### 3.Preprocess the customer data https://www.kaggle.com/carrie1/ecommerce-data . How are you handling nulls? What process(es) are you using to encode and normalize the data?"
   ]
  },
  {
   "cell_type": "code",
   "execution_count": 188,
   "id": "6e70011a",
   "metadata": {},
   "outputs": [],
   "source": [
    "import pandas as pd\n",
    "import numpy as np\n",
    "import matplotlib.pyplot as plt\n",
    "import seaborn as sns\n",
    "from sklearn.cluster import KMeans"
   ]
  },
  {
   "cell_type": "code",
   "execution_count": 189,
   "id": "3b8205ed",
   "metadata": {},
   "outputs": [
    {
     "data": {
      "text/html": [
       "<div>\n",
       "<style scoped>\n",
       "    .dataframe tbody tr th:only-of-type {\n",
       "        vertical-align: middle;\n",
       "    }\n",
       "\n",
       "    .dataframe tbody tr th {\n",
       "        vertical-align: top;\n",
       "    }\n",
       "\n",
       "    .dataframe thead th {\n",
       "        text-align: right;\n",
       "    }\n",
       "</style>\n",
       "<table border=\"1\" class=\"dataframe\">\n",
       "  <thead>\n",
       "    <tr style=\"text-align: right;\">\n",
       "      <th></th>\n",
       "      <th>InvoiceNo</th>\n",
       "      <th>StockCode</th>\n",
       "      <th>Description</th>\n",
       "      <th>Quantity</th>\n",
       "      <th>InvoiceDate</th>\n",
       "      <th>UnitPrice</th>\n",
       "      <th>CustomerID</th>\n",
       "      <th>Country</th>\n",
       "    </tr>\n",
       "  </thead>\n",
       "  <tbody>\n",
       "    <tr>\n",
       "      <th>0</th>\n",
       "      <td>536365</td>\n",
       "      <td>85123A</td>\n",
       "      <td>WHITE HANGING HEART T-LIGHT HOLDER</td>\n",
       "      <td>6</td>\n",
       "      <td>12/1/2010 8:26</td>\n",
       "      <td>2.55</td>\n",
       "      <td>17850.0</td>\n",
       "      <td>United Kingdom</td>\n",
       "    </tr>\n",
       "    <tr>\n",
       "      <th>1</th>\n",
       "      <td>536365</td>\n",
       "      <td>71053</td>\n",
       "      <td>WHITE METAL LANTERN</td>\n",
       "      <td>6</td>\n",
       "      <td>12/1/2010 8:26</td>\n",
       "      <td>3.39</td>\n",
       "      <td>17850.0</td>\n",
       "      <td>United Kingdom</td>\n",
       "    </tr>\n",
       "    <tr>\n",
       "      <th>2</th>\n",
       "      <td>536365</td>\n",
       "      <td>84406B</td>\n",
       "      <td>CREAM CUPID HEARTS COAT HANGER</td>\n",
       "      <td>8</td>\n",
       "      <td>12/1/2010 8:26</td>\n",
       "      <td>2.75</td>\n",
       "      <td>17850.0</td>\n",
       "      <td>United Kingdom</td>\n",
       "    </tr>\n",
       "    <tr>\n",
       "      <th>3</th>\n",
       "      <td>536365</td>\n",
       "      <td>84029G</td>\n",
       "      <td>KNITTED UNION FLAG HOT WATER BOTTLE</td>\n",
       "      <td>6</td>\n",
       "      <td>12/1/2010 8:26</td>\n",
       "      <td>3.39</td>\n",
       "      <td>17850.0</td>\n",
       "      <td>United Kingdom</td>\n",
       "    </tr>\n",
       "    <tr>\n",
       "      <th>4</th>\n",
       "      <td>536365</td>\n",
       "      <td>84029E</td>\n",
       "      <td>RED WOOLLY HOTTIE WHITE HEART.</td>\n",
       "      <td>6</td>\n",
       "      <td>12/1/2010 8:26</td>\n",
       "      <td>3.39</td>\n",
       "      <td>17850.0</td>\n",
       "      <td>United Kingdom</td>\n",
       "    </tr>\n",
       "  </tbody>\n",
       "</table>\n",
       "</div>"
      ],
      "text/plain": [
       "  InvoiceNo StockCode                          Description  Quantity  \\\n",
       "0    536365    85123A   WHITE HANGING HEART T-LIGHT HOLDER         6   \n",
       "1    536365     71053                  WHITE METAL LANTERN         6   \n",
       "2    536365    84406B       CREAM CUPID HEARTS COAT HANGER         8   \n",
       "3    536365    84029G  KNITTED UNION FLAG HOT WATER BOTTLE         6   \n",
       "4    536365    84029E       RED WOOLLY HOTTIE WHITE HEART.         6   \n",
       "\n",
       "      InvoiceDate  UnitPrice  CustomerID         Country  \n",
       "0  12/1/2010 8:26       2.55     17850.0  United Kingdom  \n",
       "1  12/1/2010 8:26       3.39     17850.0  United Kingdom  \n",
       "2  12/1/2010 8:26       2.75     17850.0  United Kingdom  \n",
       "3  12/1/2010 8:26       3.39     17850.0  United Kingdom  \n",
       "4  12/1/2010 8:26       3.39     17850.0  United Kingdom  "
      ]
     },
     "execution_count": 189,
     "metadata": {},
     "output_type": "execute_result"
    }
   ],
   "source": [
    "data = pd.read_csv('E-commerce.csv')\n",
    "data.head(5)"
   ]
  },
  {
   "cell_type": "code",
   "execution_count": 190,
   "id": "1fc96663",
   "metadata": {},
   "outputs": [
    {
     "data": {
      "text/plain": [
       "InvoiceNo           0\n",
       "StockCode           0\n",
       "Description      1454\n",
       "Quantity            0\n",
       "InvoiceDate         0\n",
       "UnitPrice           0\n",
       "CustomerID     135080\n",
       "Country             0\n",
       "dtype: int64"
      ]
     },
     "execution_count": 190,
     "metadata": {},
     "output_type": "execute_result"
    }
   ],
   "source": [
    "# checking null values\n",
    "data.isnull().sum()"
   ]
  },
  {
   "cell_type": "code",
   "execution_count": 191,
   "id": "501af3fa",
   "metadata": {},
   "outputs": [
    {
     "name": "stdout",
     "output_type": "stream",
     "text": [
      "(406829, 8)\n"
     ]
    }
   ],
   "source": [
    "data.dropna(axis = 0, inplace = True)\n",
    "print(data.shape)   #removing the null values"
   ]
  },
  {
   "cell_type": "code",
   "execution_count": 192,
   "id": "93457078",
   "metadata": {},
   "outputs": [
    {
     "name": "stdout",
     "output_type": "stream",
     "text": [
      "(397924, 8)\n"
     ]
    }
   ],
   "source": [
    "data = data[data['Quantity']>=0]\n",
    "data = data[data['UnitPrice']>=0]\n",
    "\n",
    "print(data.shape)"
   ]
  },
  {
   "cell_type": "code",
   "execution_count": 193,
   "id": "811796e5",
   "metadata": {},
   "outputs": [
    {
     "data": {
      "text/html": [
       "<div>\n",
       "<style scoped>\n",
       "    .dataframe tbody tr th:only-of-type {\n",
       "        vertical-align: middle;\n",
       "    }\n",
       "\n",
       "    .dataframe tbody tr th {\n",
       "        vertical-align: top;\n",
       "    }\n",
       "\n",
       "    .dataframe thead th {\n",
       "        text-align: right;\n",
       "    }\n",
       "</style>\n",
       "<table border=\"1\" class=\"dataframe\">\n",
       "  <thead>\n",
       "    <tr style=\"text-align: right;\">\n",
       "      <th></th>\n",
       "      <th>Quantity</th>\n",
       "      <th>UnitPrice</th>\n",
       "      <th>CustomerID</th>\n",
       "    </tr>\n",
       "  </thead>\n",
       "  <tbody>\n",
       "    <tr>\n",
       "      <th>count</th>\n",
       "      <td>397924.000000</td>\n",
       "      <td>397924.000000</td>\n",
       "      <td>397924.000000</td>\n",
       "    </tr>\n",
       "    <tr>\n",
       "      <th>mean</th>\n",
       "      <td>13.021823</td>\n",
       "      <td>3.116174</td>\n",
       "      <td>15294.315171</td>\n",
       "    </tr>\n",
       "    <tr>\n",
       "      <th>std</th>\n",
       "      <td>180.420210</td>\n",
       "      <td>22.096788</td>\n",
       "      <td>1713.169877</td>\n",
       "    </tr>\n",
       "    <tr>\n",
       "      <th>min</th>\n",
       "      <td>1.000000</td>\n",
       "      <td>0.000000</td>\n",
       "      <td>12346.000000</td>\n",
       "    </tr>\n",
       "    <tr>\n",
       "      <th>25%</th>\n",
       "      <td>2.000000</td>\n",
       "      <td>1.250000</td>\n",
       "      <td>13969.000000</td>\n",
       "    </tr>\n",
       "    <tr>\n",
       "      <th>50%</th>\n",
       "      <td>6.000000</td>\n",
       "      <td>1.950000</td>\n",
       "      <td>15159.000000</td>\n",
       "    </tr>\n",
       "    <tr>\n",
       "      <th>75%</th>\n",
       "      <td>12.000000</td>\n",
       "      <td>3.750000</td>\n",
       "      <td>16795.000000</td>\n",
       "    </tr>\n",
       "    <tr>\n",
       "      <th>max</th>\n",
       "      <td>80995.000000</td>\n",
       "      <td>8142.750000</td>\n",
       "      <td>18287.000000</td>\n",
       "    </tr>\n",
       "  </tbody>\n",
       "</table>\n",
       "</div>"
      ],
      "text/plain": [
       "            Quantity      UnitPrice     CustomerID\n",
       "count  397924.000000  397924.000000  397924.000000\n",
       "mean       13.021823       3.116174   15294.315171\n",
       "std       180.420210      22.096788    1713.169877\n",
       "min         1.000000       0.000000   12346.000000\n",
       "25%         2.000000       1.250000   13969.000000\n",
       "50%         6.000000       1.950000   15159.000000\n",
       "75%        12.000000       3.750000   16795.000000\n",
       "max     80995.000000    8142.750000   18287.000000"
      ]
     },
     "execution_count": 193,
     "metadata": {},
     "output_type": "execute_result"
    }
   ],
   "source": [
    "data.describe()"
   ]
  },
  {
   "cell_type": "code",
   "execution_count": 194,
   "id": "489d9702",
   "metadata": {},
   "outputs": [
    {
     "data": {
      "text/html": [
       "<div>\n",
       "<style scoped>\n",
       "    .dataframe tbody tr th:only-of-type {\n",
       "        vertical-align: middle;\n",
       "    }\n",
       "\n",
       "    .dataframe tbody tr th {\n",
       "        vertical-align: top;\n",
       "    }\n",
       "\n",
       "    .dataframe thead th {\n",
       "        text-align: right;\n",
       "    }\n",
       "</style>\n",
       "<table border=\"1\" class=\"dataframe\">\n",
       "  <thead>\n",
       "    <tr style=\"text-align: right;\">\n",
       "      <th></th>\n",
       "      <th>InvoiceNo</th>\n",
       "      <th>StockCode</th>\n",
       "      <th>Description</th>\n",
       "      <th>Quantity</th>\n",
       "      <th>InvoiceDate</th>\n",
       "      <th>UnitPrice</th>\n",
       "      <th>CustomerID</th>\n",
       "      <th>Country</th>\n",
       "      <th>TotalQuantity</th>\n",
       "    </tr>\n",
       "  </thead>\n",
       "  <tbody>\n",
       "    <tr>\n",
       "      <th>0</th>\n",
       "      <td>536365</td>\n",
       "      <td>85123A</td>\n",
       "      <td>WHITE HANGING HEART T-LIGHT HOLDER</td>\n",
       "      <td>6</td>\n",
       "      <td>12/1/2010 8:26</td>\n",
       "      <td>2.55</td>\n",
       "      <td>17850.0</td>\n",
       "      <td>United Kingdom</td>\n",
       "      <td>15.30</td>\n",
       "    </tr>\n",
       "    <tr>\n",
       "      <th>1</th>\n",
       "      <td>536365</td>\n",
       "      <td>71053</td>\n",
       "      <td>WHITE METAL LANTERN</td>\n",
       "      <td>6</td>\n",
       "      <td>12/1/2010 8:26</td>\n",
       "      <td>3.39</td>\n",
       "      <td>17850.0</td>\n",
       "      <td>United Kingdom</td>\n",
       "      <td>20.34</td>\n",
       "    </tr>\n",
       "    <tr>\n",
       "      <th>2</th>\n",
       "      <td>536365</td>\n",
       "      <td>84406B</td>\n",
       "      <td>CREAM CUPID HEARTS COAT HANGER</td>\n",
       "      <td>8</td>\n",
       "      <td>12/1/2010 8:26</td>\n",
       "      <td>2.75</td>\n",
       "      <td>17850.0</td>\n",
       "      <td>United Kingdom</td>\n",
       "      <td>22.00</td>\n",
       "    </tr>\n",
       "    <tr>\n",
       "      <th>3</th>\n",
       "      <td>536365</td>\n",
       "      <td>84029G</td>\n",
       "      <td>KNITTED UNION FLAG HOT WATER BOTTLE</td>\n",
       "      <td>6</td>\n",
       "      <td>12/1/2010 8:26</td>\n",
       "      <td>3.39</td>\n",
       "      <td>17850.0</td>\n",
       "      <td>United Kingdom</td>\n",
       "      <td>20.34</td>\n",
       "    </tr>\n",
       "    <tr>\n",
       "      <th>4</th>\n",
       "      <td>536365</td>\n",
       "      <td>84029E</td>\n",
       "      <td>RED WOOLLY HOTTIE WHITE HEART.</td>\n",
       "      <td>6</td>\n",
       "      <td>12/1/2010 8:26</td>\n",
       "      <td>3.39</td>\n",
       "      <td>17850.0</td>\n",
       "      <td>United Kingdom</td>\n",
       "      <td>20.34</td>\n",
       "    </tr>\n",
       "  </tbody>\n",
       "</table>\n",
       "</div>"
      ],
      "text/plain": [
       "  InvoiceNo StockCode                          Description  Quantity  \\\n",
       "0    536365    85123A   WHITE HANGING HEART T-LIGHT HOLDER         6   \n",
       "1    536365     71053                  WHITE METAL LANTERN         6   \n",
       "2    536365    84406B       CREAM CUPID HEARTS COAT HANGER         8   \n",
       "3    536365    84029G  KNITTED UNION FLAG HOT WATER BOTTLE         6   \n",
       "4    536365    84029E       RED WOOLLY HOTTIE WHITE HEART.         6   \n",
       "\n",
       "      InvoiceDate  UnitPrice  CustomerID         Country  TotalQuantity  \n",
       "0  12/1/2010 8:26       2.55     17850.0  United Kingdom          15.30  \n",
       "1  12/1/2010 8:26       3.39     17850.0  United Kingdom          20.34  \n",
       "2  12/1/2010 8:26       2.75     17850.0  United Kingdom          22.00  \n",
       "3  12/1/2010 8:26       3.39     17850.0  United Kingdom          20.34  \n",
       "4  12/1/2010 8:26       3.39     17850.0  United Kingdom          20.34  "
      ]
     },
     "execution_count": 194,
     "metadata": {},
     "output_type": "execute_result"
    }
   ],
   "source": [
    "data['TotalQuantity'] = data['Quantity']*data['UnitPrice']\n",
    "data.head()"
   ]
  },
  {
   "cell_type": "code",
   "execution_count": 195,
   "id": "55b622e5",
   "metadata": {},
   "outputs": [
    {
     "name": "stdout",
     "output_type": "stream",
     "text": [
      "                      InvoiceNo\n",
      "Country                        \n",
      "United Kingdom           354345\n",
      "Germany                    9042\n",
      "France                     8342\n",
      "EIRE                       7238\n",
      "Spain                      2485\n",
      "Netherlands                2363\n",
      "Belgium                    2031\n",
      "Switzerland                1842\n",
      "Portugal                   1462\n",
      "Australia                  1185\n",
      "Norway                     1072\n",
      "Italy                       758\n",
      "Channel Islands             748\n",
      "Finland                     685\n",
      "Cyprus                      614\n",
      "Sweden                      451\n",
      "Austria                     398\n",
      "Denmark                     380\n",
      "Poland                      330\n",
      "Japan                       321\n",
      "Israel                      248\n",
      "Unspecified                 244\n",
      "Singapore                   222\n",
      "Iceland                     182\n",
      "USA                         179\n",
      "Canada                      151\n",
      "Greece                      145\n",
      "Malta                       112\n",
      "United Arab Emirates         68\n",
      "European Community           60\n",
      "RSA                          58\n",
      "Lebanon                      45\n",
      "Lithuania                    35\n",
      "Brazil                       32\n",
      "Czech Republic               25\n",
      "Bahrain                      17\n",
      "Saudi Arabia                  9\n"
     ]
    }
   ],
   "source": [
    "#Now we will look at the details of the countries through which most of the orders were placed\n",
    "print(data[['InvoiceNo','Country']].groupby('Country').count().sort_values(\"InvoiceNo\",ascending = False))"
   ]
  },
  {
   "cell_type": "code",
   "execution_count": 196,
   "id": "8d87ffb4",
   "metadata": {},
   "outputs": [
    {
     "data": {
      "text/html": [
       "<div>\n",
       "<style scoped>\n",
       "    .dataframe tbody tr th:only-of-type {\n",
       "        vertical-align: middle;\n",
       "    }\n",
       "\n",
       "    .dataframe tbody tr th {\n",
       "        vertical-align: top;\n",
       "    }\n",
       "\n",
       "    .dataframe thead th {\n",
       "        text-align: right;\n",
       "    }\n",
       "</style>\n",
       "<table border=\"1\" class=\"dataframe\">\n",
       "  <thead>\n",
       "    <tr style=\"text-align: right;\">\n",
       "      <th></th>\n",
       "      <th>InvoiceNo</th>\n",
       "      <th>StockCode</th>\n",
       "      <th>Description</th>\n",
       "      <th>Quantity</th>\n",
       "      <th>InvoiceDate</th>\n",
       "      <th>UnitPrice</th>\n",
       "      <th>CustomerID</th>\n",
       "      <th>Country</th>\n",
       "      <th>TotalQuantity</th>\n",
       "    </tr>\n",
       "  </thead>\n",
       "  <tbody>\n",
       "    <tr>\n",
       "      <th>540421</th>\n",
       "      <td>581483</td>\n",
       "      <td>23843</td>\n",
       "      <td>PAPER CRAFT , LITTLE BIRDIE</td>\n",
       "      <td>80995</td>\n",
       "      <td>12/9/2011 9:15</td>\n",
       "      <td>2.08</td>\n",
       "      <td>16446.0</td>\n",
       "      <td>United Kingdom</td>\n",
       "      <td>168469.6</td>\n",
       "    </tr>\n",
       "  </tbody>\n",
       "</table>\n",
       "</div>"
      ],
      "text/plain": [
       "       InvoiceNo StockCode                  Description  Quantity  \\\n",
       "540421    581483     23843  PAPER CRAFT , LITTLE BIRDIE     80995   \n",
       "\n",
       "           InvoiceDate  UnitPrice  CustomerID         Country  TotalQuantity  \n",
       "540421  12/9/2011 9:15       2.08     16446.0  United Kingdom       168469.6  "
      ]
     },
     "execution_count": 196,
     "metadata": {},
     "output_type": "execute_result"
    }
   ],
   "source": [
    "data[data['TotalQuantity']==data['TotalQuantity'].max()]"
   ]
  },
  {
   "cell_type": "code",
   "execution_count": 197,
   "id": "63444288",
   "metadata": {},
   "outputs": [
    {
     "name": "stdout",
     "output_type": "stream",
     "text": [
      "WHITE HANGING HEART T-LIGHT HOLDER    2028\n",
      "REGENCY CAKESTAND 3 TIER              1724\n",
      "JUMBO BAG RED RETROSPOT               1618\n",
      "ASSORTED COLOUR BIRD ORNAMENT         1408\n",
      "PARTY BUNTING                         1397\n",
      "Name: Description, dtype: int64\n"
     ]
    }
   ],
   "source": [
    "items = data['Description'].value_counts().head()\n",
    "print(items)"
   ]
  },
  {
   "cell_type": "code",
   "execution_count": 198,
   "id": "dd3f0067",
   "metadata": {},
   "outputs": [
    {
     "name": "stdout",
     "output_type": "stream",
     "text": [
      "       InvoiceNo         Country  CustomerID  TotalQuantity\n",
      "540421    581483  United Kingdom     16446.0      168469.60\n",
      "61619     541431  United Kingdom     12346.0       77183.60\n",
      "222680    556444  United Kingdom     15098.0       38970.00\n",
      "173382    551697  United Kingdom     16029.0        8142.75\n",
      "348325    567423  United Kingdom     17450.0        7144.72\n",
      "160546    550461  United Kingdom     15749.0        6539.40\n",
      "52711     540815  United Kingdom     15749.0        6539.40\n",
      "421601    573003     Netherlands     14646.0        4992.00\n",
      "52709     540815  United Kingdom     15749.0        4921.50\n",
      "160542    550461  United Kingdom     15749.0        4632.00\n",
      "52772     540818  United Kingdom     15749.0        4522.50\n",
      "244419    558526  United Kingdom     17949.0        4401.00\n",
      "160544    550461  United Kingdom     15749.0        4254.50\n",
      "291249    562439  United Kingdom     12931.0        4176.00\n",
      "422351    573077          France     12536.0        4161.06\n"
     ]
    }
   ],
   "source": [
    "print(data[['InvoiceNo','Country','CustomerID','TotalQuantity']].sort_values('TotalQuantity',ascending = False).head(15))"
   ]
  },
  {
   "cell_type": "markdown",
   "id": "5ab259d9",
   "metadata": {},
   "source": [
    "# RFM Analysis"
   ]
  },
  {
   "cell_type": "markdown",
   "id": "7e1f74db",
   "metadata": {},
   "source": [
    "RFM (Recency, Frequency, Monetary) analysis is a customer segmentation technique that uses past purchase behaviour to divide customers into groups. RFM helps divide customers into various categories or clusters to identify customers who are more likely to respond to promotions and also for future personalization services."
   ]
  },
  {
   "cell_type": "markdown",
   "id": "7868eb5a",
   "metadata": {},
   "source": [
    "RECENCY (R): Days since last purchase\n",
    "\n",
    "FREQUENCY (F): Total number of purchases\n",
    "\n",
    "MONETARY VALUE (M): Total money this customer spent. We will create those 3 customer attributes for each customer."
   ]
  },
  {
   "cell_type": "markdown",
   "id": "e1c09d2f",
   "metadata": {},
   "source": [
    "Recency"
   ]
  },
  {
   "cell_type": "markdown",
   "id": "50406cfe",
   "metadata": {},
   "source": [
    "To calculate recency, we need to choose a date point from which we evaluate how many days ago was the customer's last purchase."
   ]
  },
  {
   "cell_type": "code",
   "execution_count": 199,
   "id": "b34ab991",
   "metadata": {},
   "outputs": [
    {
     "data": {
      "text/html": [
       "<div>\n",
       "<style scoped>\n",
       "    .dataframe tbody tr th:only-of-type {\n",
       "        vertical-align: middle;\n",
       "    }\n",
       "\n",
       "    .dataframe tbody tr th {\n",
       "        vertical-align: top;\n",
       "    }\n",
       "\n",
       "    .dataframe thead th {\n",
       "        text-align: right;\n",
       "    }\n",
       "</style>\n",
       "<table border=\"1\" class=\"dataframe\">\n",
       "  <thead>\n",
       "    <tr style=\"text-align: right;\">\n",
       "      <th></th>\n",
       "      <th>InvoiceNo</th>\n",
       "      <th>StockCode</th>\n",
       "      <th>Description</th>\n",
       "      <th>Quantity</th>\n",
       "      <th>InvoiceDate</th>\n",
       "      <th>UnitPrice</th>\n",
       "      <th>CustomerID</th>\n",
       "      <th>Country</th>\n",
       "      <th>TotalQuantity</th>\n",
       "      <th>Date</th>\n",
       "    </tr>\n",
       "  </thead>\n",
       "  <tbody>\n",
       "    <tr>\n",
       "      <th>0</th>\n",
       "      <td>536365</td>\n",
       "      <td>85123A</td>\n",
       "      <td>WHITE HANGING HEART T-LIGHT HOLDER</td>\n",
       "      <td>6</td>\n",
       "      <td>2010-12-01 08:26:00</td>\n",
       "      <td>2.55</td>\n",
       "      <td>17850.0</td>\n",
       "      <td>United Kingdom</td>\n",
       "      <td>15.30</td>\n",
       "      <td>2010-12-01</td>\n",
       "    </tr>\n",
       "    <tr>\n",
       "      <th>1</th>\n",
       "      <td>536365</td>\n",
       "      <td>71053</td>\n",
       "      <td>WHITE METAL LANTERN</td>\n",
       "      <td>6</td>\n",
       "      <td>2010-12-01 08:26:00</td>\n",
       "      <td>3.39</td>\n",
       "      <td>17850.0</td>\n",
       "      <td>United Kingdom</td>\n",
       "      <td>20.34</td>\n",
       "      <td>2010-12-01</td>\n",
       "    </tr>\n",
       "    <tr>\n",
       "      <th>2</th>\n",
       "      <td>536365</td>\n",
       "      <td>84406B</td>\n",
       "      <td>CREAM CUPID HEARTS COAT HANGER</td>\n",
       "      <td>8</td>\n",
       "      <td>2010-12-01 08:26:00</td>\n",
       "      <td>2.75</td>\n",
       "      <td>17850.0</td>\n",
       "      <td>United Kingdom</td>\n",
       "      <td>22.00</td>\n",
       "      <td>2010-12-01</td>\n",
       "    </tr>\n",
       "    <tr>\n",
       "      <th>3</th>\n",
       "      <td>536365</td>\n",
       "      <td>84029G</td>\n",
       "      <td>KNITTED UNION FLAG HOT WATER BOTTLE</td>\n",
       "      <td>6</td>\n",
       "      <td>2010-12-01 08:26:00</td>\n",
       "      <td>3.39</td>\n",
       "      <td>17850.0</td>\n",
       "      <td>United Kingdom</td>\n",
       "      <td>20.34</td>\n",
       "      <td>2010-12-01</td>\n",
       "    </tr>\n",
       "    <tr>\n",
       "      <th>4</th>\n",
       "      <td>536365</td>\n",
       "      <td>84029E</td>\n",
       "      <td>RED WOOLLY HOTTIE WHITE HEART.</td>\n",
       "      <td>6</td>\n",
       "      <td>2010-12-01 08:26:00</td>\n",
       "      <td>3.39</td>\n",
       "      <td>17850.0</td>\n",
       "      <td>United Kingdom</td>\n",
       "      <td>20.34</td>\n",
       "      <td>2010-12-01</td>\n",
       "    </tr>\n",
       "  </tbody>\n",
       "</table>\n",
       "</div>"
      ],
      "text/plain": [
       "  InvoiceNo StockCode                          Description  Quantity  \\\n",
       "0    536365    85123A   WHITE HANGING HEART T-LIGHT HOLDER         6   \n",
       "1    536365     71053                  WHITE METAL LANTERN         6   \n",
       "2    536365    84406B       CREAM CUPID HEARTS COAT HANGER         8   \n",
       "3    536365    84029G  KNITTED UNION FLAG HOT WATER BOTTLE         6   \n",
       "4    536365    84029E       RED WOOLLY HOTTIE WHITE HEART.         6   \n",
       "\n",
       "          InvoiceDate  UnitPrice  CustomerID         Country  TotalQuantity  \\\n",
       "0 2010-12-01 08:26:00       2.55     17850.0  United Kingdom          15.30   \n",
       "1 2010-12-01 08:26:00       3.39     17850.0  United Kingdom          20.34   \n",
       "2 2010-12-01 08:26:00       2.75     17850.0  United Kingdom          22.00   \n",
       "3 2010-12-01 08:26:00       3.39     17850.0  United Kingdom          20.34   \n",
       "4 2010-12-01 08:26:00       3.39     17850.0  United Kingdom          20.34   \n",
       "\n",
       "         Date  \n",
       "0  2010-12-01  \n",
       "1  2010-12-01  \n",
       "2  2010-12-01  \n",
       "3  2010-12-01  \n",
       "4  2010-12-01  "
      ]
     },
     "execution_count": 199,
     "metadata": {},
     "output_type": "execute_result"
    }
   ],
   "source": [
    "data['InvoiceDate'] = pd.to_datetime(data['InvoiceDate'])\n",
    "data['Date'] = data['InvoiceDate'].apply(lambda x: x.date())\n",
    "data.head()"
   ]
  },
  {
   "cell_type": "code",
   "execution_count": 200,
   "id": "642db4e0",
   "metadata": {},
   "outputs": [],
   "source": [
    "data['Month']=data['InvoiceDate'].apply(lambda x:x.month)\n",
    "data['Year']=data['InvoiceDate'].apply(lambda x:x.year)\n",
    "data=data.sort_values(by=['Year','Month'])\n",
    "\n",
    "mmap={1:'Jan11',2:'Feb11',3:'Mar11',4:'Apr11', 5:'May11', 6:'Jun11', 7:'Jul11',8:'Aug11',9:'Sep11',10:'Oct11',11:'Nov11',12:'Dec11'}\n",
    "data['Month_name']=data['Month'].map(mmap)"
   ]
  },
  {
   "cell_type": "code",
   "execution_count": 201,
   "id": "7ac07645",
   "metadata": {},
   "outputs": [],
   "source": [
    "def my(x):\n",
    "    Month=x[0]\n",
    "    Year=x[1]\n",
    "    \n",
    "    if Year==2010:\n",
    "        Month='Dec10'\n",
    "        return Month\n",
    "    else:\n",
    "        return Month"
   ]
  },
  {
   "cell_type": "code",
   "execution_count": 202,
   "id": "4c999ab1",
   "metadata": {},
   "outputs": [],
   "source": [
    "data['Month_name']=data[['Month_name','Year']].apply(my, axis=1)"
   ]
  },
  {
   "cell_type": "code",
   "execution_count": 203,
   "id": "2ca195c8",
   "metadata": {},
   "outputs": [
    {
     "data": {
      "text/html": [
       "<div>\n",
       "<style scoped>\n",
       "    .dataframe tbody tr th:only-of-type {\n",
       "        vertical-align: middle;\n",
       "    }\n",
       "\n",
       "    .dataframe tbody tr th {\n",
       "        vertical-align: top;\n",
       "    }\n",
       "\n",
       "    .dataframe thead th {\n",
       "        text-align: right;\n",
       "    }\n",
       "</style>\n",
       "<table border=\"1\" class=\"dataframe\">\n",
       "  <thead>\n",
       "    <tr style=\"text-align: right;\">\n",
       "      <th></th>\n",
       "      <th>InvoiceNo</th>\n",
       "      <th>StockCode</th>\n",
       "      <th>Description</th>\n",
       "      <th>Quantity</th>\n",
       "      <th>InvoiceDate</th>\n",
       "      <th>UnitPrice</th>\n",
       "      <th>CustomerID</th>\n",
       "      <th>Country</th>\n",
       "      <th>TotalQuantity</th>\n",
       "      <th>Date</th>\n",
       "      <th>Month</th>\n",
       "      <th>Year</th>\n",
       "      <th>Month_name</th>\n",
       "    </tr>\n",
       "  </thead>\n",
       "  <tbody>\n",
       "    <tr>\n",
       "      <th>0</th>\n",
       "      <td>536365</td>\n",
       "      <td>85123A</td>\n",
       "      <td>WHITE HANGING HEART T-LIGHT HOLDER</td>\n",
       "      <td>6</td>\n",
       "      <td>2010-12-01 08:26:00</td>\n",
       "      <td>2.55</td>\n",
       "      <td>17850.0</td>\n",
       "      <td>United Kingdom</td>\n",
       "      <td>15.30</td>\n",
       "      <td>2010-12-01</td>\n",
       "      <td>12</td>\n",
       "      <td>2010</td>\n",
       "      <td>Dec10</td>\n",
       "    </tr>\n",
       "    <tr>\n",
       "      <th>1</th>\n",
       "      <td>536365</td>\n",
       "      <td>71053</td>\n",
       "      <td>WHITE METAL LANTERN</td>\n",
       "      <td>6</td>\n",
       "      <td>2010-12-01 08:26:00</td>\n",
       "      <td>3.39</td>\n",
       "      <td>17850.0</td>\n",
       "      <td>United Kingdom</td>\n",
       "      <td>20.34</td>\n",
       "      <td>2010-12-01</td>\n",
       "      <td>12</td>\n",
       "      <td>2010</td>\n",
       "      <td>Dec10</td>\n",
       "    </tr>\n",
       "    <tr>\n",
       "      <th>2</th>\n",
       "      <td>536365</td>\n",
       "      <td>84406B</td>\n",
       "      <td>CREAM CUPID HEARTS COAT HANGER</td>\n",
       "      <td>8</td>\n",
       "      <td>2010-12-01 08:26:00</td>\n",
       "      <td>2.75</td>\n",
       "      <td>17850.0</td>\n",
       "      <td>United Kingdom</td>\n",
       "      <td>22.00</td>\n",
       "      <td>2010-12-01</td>\n",
       "      <td>12</td>\n",
       "      <td>2010</td>\n",
       "      <td>Dec10</td>\n",
       "    </tr>\n",
       "    <tr>\n",
       "      <th>3</th>\n",
       "      <td>536365</td>\n",
       "      <td>84029G</td>\n",
       "      <td>KNITTED UNION FLAG HOT WATER BOTTLE</td>\n",
       "      <td>6</td>\n",
       "      <td>2010-12-01 08:26:00</td>\n",
       "      <td>3.39</td>\n",
       "      <td>17850.0</td>\n",
       "      <td>United Kingdom</td>\n",
       "      <td>20.34</td>\n",
       "      <td>2010-12-01</td>\n",
       "      <td>12</td>\n",
       "      <td>2010</td>\n",
       "      <td>Dec10</td>\n",
       "    </tr>\n",
       "    <tr>\n",
       "      <th>4</th>\n",
       "      <td>536365</td>\n",
       "      <td>84029E</td>\n",
       "      <td>RED WOOLLY HOTTIE WHITE HEART.</td>\n",
       "      <td>6</td>\n",
       "      <td>2010-12-01 08:26:00</td>\n",
       "      <td>3.39</td>\n",
       "      <td>17850.0</td>\n",
       "      <td>United Kingdom</td>\n",
       "      <td>20.34</td>\n",
       "      <td>2010-12-01</td>\n",
       "      <td>12</td>\n",
       "      <td>2010</td>\n",
       "      <td>Dec10</td>\n",
       "    </tr>\n",
       "  </tbody>\n",
       "</table>\n",
       "</div>"
      ],
      "text/plain": [
       "  InvoiceNo StockCode                          Description  Quantity  \\\n",
       "0    536365    85123A   WHITE HANGING HEART T-LIGHT HOLDER         6   \n",
       "1    536365     71053                  WHITE METAL LANTERN         6   \n",
       "2    536365    84406B       CREAM CUPID HEARTS COAT HANGER         8   \n",
       "3    536365    84029G  KNITTED UNION FLAG HOT WATER BOTTLE         6   \n",
       "4    536365    84029E       RED WOOLLY HOTTIE WHITE HEART.         6   \n",
       "\n",
       "          InvoiceDate  UnitPrice  CustomerID         Country  TotalQuantity  \\\n",
       "0 2010-12-01 08:26:00       2.55     17850.0  United Kingdom          15.30   \n",
       "1 2010-12-01 08:26:00       3.39     17850.0  United Kingdom          20.34   \n",
       "2 2010-12-01 08:26:00       2.75     17850.0  United Kingdom          22.00   \n",
       "3 2010-12-01 08:26:00       3.39     17850.0  United Kingdom          20.34   \n",
       "4 2010-12-01 08:26:00       3.39     17850.0  United Kingdom          20.34   \n",
       "\n",
       "         Date  Month  Year Month_name  \n",
       "0  2010-12-01     12  2010      Dec10  \n",
       "1  2010-12-01     12  2010      Dec10  \n",
       "2  2010-12-01     12  2010      Dec10  \n",
       "3  2010-12-01     12  2010      Dec10  \n",
       "4  2010-12-01     12  2010      Dec10  "
      ]
     },
     "execution_count": 203,
     "metadata": {},
     "output_type": "execute_result"
    }
   ],
   "source": [
    "data.head()"
   ]
  },
  {
   "cell_type": "markdown",
   "id": "ca79759b",
   "metadata": {},
   "source": [
    "Total Transaction's monthly"
   ]
  },
  {
   "cell_type": "code",
   "execution_count": 204,
   "id": "0d9ae326",
   "metadata": {},
   "outputs": [
    {
     "data": {
      "text/html": [
       "<div>\n",
       "<style scoped>\n",
       "    .dataframe tbody tr th:only-of-type {\n",
       "        vertical-align: middle;\n",
       "    }\n",
       "\n",
       "    .dataframe tbody tr th {\n",
       "        vertical-align: top;\n",
       "    }\n",
       "\n",
       "    .dataframe thead th {\n",
       "        text-align: right;\n",
       "    }\n",
       "</style>\n",
       "<table border=\"1\" class=\"dataframe\">\n",
       "  <thead>\n",
       "    <tr style=\"text-align: right;\">\n",
       "      <th></th>\n",
       "      <th></th>\n",
       "      <th></th>\n",
       "      <th>Quantity</th>\n",
       "      <th>UnitPrice</th>\n",
       "      <th>CustomerID</th>\n",
       "      <th>TotalQuantity</th>\n",
       "    </tr>\n",
       "    <tr>\n",
       "      <th>Year</th>\n",
       "      <th>Month</th>\n",
       "      <th>Month_name</th>\n",
       "      <th></th>\n",
       "      <th></th>\n",
       "      <th></th>\n",
       "      <th></th>\n",
       "    </tr>\n",
       "  </thead>\n",
       "  <tbody>\n",
       "    <tr>\n",
       "      <th>2010</th>\n",
       "      <th>12</th>\n",
       "      <th>Dec10</th>\n",
       "      <td>312280</td>\n",
       "      <td>81935.610</td>\n",
       "      <td>406240953.0</td>\n",
       "      <td>572713.890</td>\n",
       "    </tr>\n",
       "    <tr>\n",
       "      <th rowspan=\"4\" valign=\"top\">2011</th>\n",
       "      <th>1</th>\n",
       "      <th>Jan11</th>\n",
       "      <td>349147</td>\n",
       "      <td>66964.990</td>\n",
       "      <td>321904509.0</td>\n",
       "      <td>569445.040</td>\n",
       "    </tr>\n",
       "    <tr>\n",
       "      <th>2</th>\n",
       "      <th>Feb11</th>\n",
       "      <td>265638</td>\n",
       "      <td>63185.760</td>\n",
       "      <td>305225091.0</td>\n",
       "      <td>447137.350</td>\n",
       "    </tr>\n",
       "    <tr>\n",
       "      <th>3</th>\n",
       "      <th>Mar11</th>\n",
       "      <td>348544</td>\n",
       "      <td>88563.100</td>\n",
       "      <td>412680258.0</td>\n",
       "      <td>595500.760</td>\n",
       "    </tr>\n",
       "    <tr>\n",
       "      <th>4</th>\n",
       "      <th>Apr11</th>\n",
       "      <td>292225</td>\n",
       "      <td>79005.481</td>\n",
       "      <td>345952584.0</td>\n",
       "      <td>469200.361</td>\n",
       "    </tr>\n",
       "  </tbody>\n",
       "</table>\n",
       "</div>"
      ],
      "text/plain": [
       "                       Quantity  UnitPrice   CustomerID  TotalQuantity\n",
       "Year Month Month_name                                                 \n",
       "2010 12    Dec10         312280  81935.610  406240953.0     572713.890\n",
       "2011 1     Jan11         349147  66964.990  321904509.0     569445.040\n",
       "     2     Feb11         265638  63185.760  305225091.0     447137.350\n",
       "     3     Mar11         348544  88563.100  412680258.0     595500.760\n",
       "     4     Apr11         292225  79005.481  345952584.0     469200.361"
      ]
     },
     "execution_count": 204,
     "metadata": {},
     "output_type": "execute_result"
    }
   ],
   "source": [
    "monthly=data.groupby(['Year','Month','Month_name']).sum()\n",
    "monthly.head()"
   ]
  },
  {
   "cell_type": "code",
   "execution_count": 205,
   "id": "c3eedf47",
   "metadata": {},
   "outputs": [
    {
     "data": {
      "text/html": [
       "<div>\n",
       "<style scoped>\n",
       "    .dataframe tbody tr th:only-of-type {\n",
       "        vertical-align: middle;\n",
       "    }\n",
       "\n",
       "    .dataframe tbody tr th {\n",
       "        vertical-align: top;\n",
       "    }\n",
       "\n",
       "    .dataframe thead th {\n",
       "        text-align: right;\n",
       "    }\n",
       "</style>\n",
       "<table border=\"1\" class=\"dataframe\">\n",
       "  <thead>\n",
       "    <tr style=\"text-align: right;\">\n",
       "      <th></th>\n",
       "      <th>CustomerID</th>\n",
       "      <th>LastPurchaseDate</th>\n",
       "    </tr>\n",
       "  </thead>\n",
       "  <tbody>\n",
       "    <tr>\n",
       "      <th>0</th>\n",
       "      <td>12346.0</td>\n",
       "      <td>2011-01-18</td>\n",
       "    </tr>\n",
       "    <tr>\n",
       "      <th>1</th>\n",
       "      <td>12347.0</td>\n",
       "      <td>2011-12-07</td>\n",
       "    </tr>\n",
       "    <tr>\n",
       "      <th>2</th>\n",
       "      <td>12348.0</td>\n",
       "      <td>2011-09-25</td>\n",
       "    </tr>\n",
       "    <tr>\n",
       "      <th>3</th>\n",
       "      <td>12349.0</td>\n",
       "      <td>2011-11-21</td>\n",
       "    </tr>\n",
       "    <tr>\n",
       "      <th>4</th>\n",
       "      <td>12350.0</td>\n",
       "      <td>2011-02-02</td>\n",
       "    </tr>\n",
       "  </tbody>\n",
       "</table>\n",
       "</div>"
      ],
      "text/plain": [
       "   CustomerID LastPurchaseDate\n",
       "0     12346.0       2011-01-18\n",
       "1     12347.0       2011-12-07\n",
       "2     12348.0       2011-09-25\n",
       "3     12349.0       2011-11-21\n",
       "4     12350.0       2011-02-02"
      ]
     },
     "execution_count": 205,
     "metadata": {},
     "output_type": "execute_result"
    }
   ],
   "source": [
    "#recency dataframe\n",
    "recency_df = data.groupby(by='CustomerID', as_index=False)['Date'].max()\n",
    "recency_df.columns = ['CustomerID','LastPurchaseDate']\n",
    "recency_df.head(5)"
   ]
  },
  {
   "cell_type": "code",
   "execution_count": 206,
   "id": "dd8bf982",
   "metadata": {},
   "outputs": [
    {
     "name": "stdout",
     "output_type": "stream",
     "text": [
      "2021-12-01\n"
     ]
    }
   ],
   "source": [
    "import datetime as dt\n",
    "current = dt.date(2021,12,1)\n",
    "print(current)"
   ]
  },
  {
   "cell_type": "code",
   "execution_count": 207,
   "id": "f83e947b",
   "metadata": {},
   "outputs": [
    {
     "data": {
      "text/html": [
       "<div>\n",
       "<style scoped>\n",
       "    .dataframe tbody tr th:only-of-type {\n",
       "        vertical-align: middle;\n",
       "    }\n",
       "\n",
       "    .dataframe tbody tr th {\n",
       "        vertical-align: top;\n",
       "    }\n",
       "\n",
       "    .dataframe thead th {\n",
       "        text-align: right;\n",
       "    }\n",
       "</style>\n",
       "<table border=\"1\" class=\"dataframe\">\n",
       "  <thead>\n",
       "    <tr style=\"text-align: right;\">\n",
       "      <th></th>\n",
       "      <th>CustomerID</th>\n",
       "      <th>Recency</th>\n",
       "    </tr>\n",
       "  </thead>\n",
       "  <tbody>\n",
       "    <tr>\n",
       "      <th>0</th>\n",
       "      <td>12346.0</td>\n",
       "      <td>3970</td>\n",
       "    </tr>\n",
       "    <tr>\n",
       "      <th>1</th>\n",
       "      <td>12347.0</td>\n",
       "      <td>3647</td>\n",
       "    </tr>\n",
       "    <tr>\n",
       "      <th>2</th>\n",
       "      <td>12348.0</td>\n",
       "      <td>3720</td>\n",
       "    </tr>\n",
       "    <tr>\n",
       "      <th>3</th>\n",
       "      <td>12349.0</td>\n",
       "      <td>3663</td>\n",
       "    </tr>\n",
       "    <tr>\n",
       "      <th>4</th>\n",
       "      <td>12350.0</td>\n",
       "      <td>3955</td>\n",
       "    </tr>\n",
       "  </tbody>\n",
       "</table>\n",
       "</div>"
      ],
      "text/plain": [
       "   CustomerID  Recency\n",
       "0     12346.0     3970\n",
       "1     12347.0     3647\n",
       "2     12348.0     3720\n",
       "3     12349.0     3663\n",
       "4     12350.0     3955"
      ]
     },
     "execution_count": 207,
     "metadata": {},
     "output_type": "execute_result"
    }
   ],
   "source": [
    "recency_df['Recency'] = recency_df['LastPurchaseDate'].apply(lambda x: (current - x).days)\n",
    "recency_df.drop('LastPurchaseDate',axis = 1,inplace=True)\n",
    "recency_df.head(5)"
   ]
  },
  {
   "cell_type": "markdown",
   "id": "e6e10b2f",
   "metadata": {},
   "source": [
    "Frequency"
   ]
  },
  {
   "cell_type": "markdown",
   "id": "48d3f321",
   "metadata": {},
   "source": [
    "Frequency helps us to know how many times a customer purchased from us. To do that we need to check how many invoices are registered by the same customer."
   ]
  },
  {
   "cell_type": "code",
   "execution_count": 208,
   "id": "f6409745",
   "metadata": {},
   "outputs": [
    {
     "data": {
      "text/html": [
       "<div>\n",
       "<style scoped>\n",
       "    .dataframe tbody tr th:only-of-type {\n",
       "        vertical-align: middle;\n",
       "    }\n",
       "\n",
       "    .dataframe tbody tr th {\n",
       "        vertical-align: top;\n",
       "    }\n",
       "\n",
       "    .dataframe thead th {\n",
       "        text-align: right;\n",
       "    }\n",
       "</style>\n",
       "<table border=\"1\" class=\"dataframe\">\n",
       "  <thead>\n",
       "    <tr style=\"text-align: right;\">\n",
       "      <th></th>\n",
       "      <th>CustomerID</th>\n",
       "      <th>Frequency</th>\n",
       "    </tr>\n",
       "  </thead>\n",
       "  <tbody>\n",
       "    <tr>\n",
       "      <th>0</th>\n",
       "      <td>12346.0</td>\n",
       "      <td>1</td>\n",
       "    </tr>\n",
       "    <tr>\n",
       "      <th>1</th>\n",
       "      <td>12347.0</td>\n",
       "      <td>7</td>\n",
       "    </tr>\n",
       "    <tr>\n",
       "      <th>2</th>\n",
       "      <td>12348.0</td>\n",
       "      <td>4</td>\n",
       "    </tr>\n",
       "    <tr>\n",
       "      <th>3</th>\n",
       "      <td>12349.0</td>\n",
       "      <td>1</td>\n",
       "    </tr>\n",
       "    <tr>\n",
       "      <th>4</th>\n",
       "      <td>12350.0</td>\n",
       "      <td>1</td>\n",
       "    </tr>\n",
       "  </tbody>\n",
       "</table>\n",
       "</div>"
      ],
      "text/plain": [
       "   CustomerID  Frequency\n",
       "0     12346.0          1\n",
       "1     12347.0          7\n",
       "2     12348.0          4\n",
       "3     12349.0          1\n",
       "4     12350.0          1"
      ]
     },
     "execution_count": 208,
     "metadata": {},
     "output_type": "execute_result"
    }
   ],
   "source": [
    "# .copy== it only creates a new variable that shares the reference of the original object.\n",
    "temp = data.copy()\n",
    "temp.drop_duplicates(['InvoiceNo','CustomerID'],keep='first',inplace=True)\n",
    "frequency_df = temp.groupby(by=['CustomerID'], as_index=False)['InvoiceNo'].count()\n",
    "frequency_df.columns = ['CustomerID','Frequency']\n",
    "frequency_df.head()"
   ]
  },
  {
   "cell_type": "markdown",
   "id": "65d936a1",
   "metadata": {},
   "source": [
    "Monetary"
   ]
  },
  {
   "cell_type": "markdown",
   "id": "2c5a2676",
   "metadata": {},
   "source": [
    "Monetary attribute answers the question: How much money did the customer spent over time?\n",
    "\n",
    "To do that, first, we will create a new column total cost to have the total price per invoice."
   ]
  },
  {
   "cell_type": "code",
   "execution_count": 209,
   "id": "e8d10344",
   "metadata": {},
   "outputs": [
    {
     "data": {
      "text/html": [
       "<div>\n",
       "<style scoped>\n",
       "    .dataframe tbody tr th:only-of-type {\n",
       "        vertical-align: middle;\n",
       "    }\n",
       "\n",
       "    .dataframe tbody tr th {\n",
       "        vertical-align: top;\n",
       "    }\n",
       "\n",
       "    .dataframe thead th {\n",
       "        text-align: right;\n",
       "    }\n",
       "</style>\n",
       "<table border=\"1\" class=\"dataframe\">\n",
       "  <thead>\n",
       "    <tr style=\"text-align: right;\">\n",
       "      <th></th>\n",
       "      <th>CustomerID</th>\n",
       "      <th>TotalQuanity</th>\n",
       "    </tr>\n",
       "  </thead>\n",
       "  <tbody>\n",
       "    <tr>\n",
       "      <th>0</th>\n",
       "      <td>12346.0</td>\n",
       "      <td>77183.60</td>\n",
       "    </tr>\n",
       "    <tr>\n",
       "      <th>1</th>\n",
       "      <td>12347.0</td>\n",
       "      <td>4310.00</td>\n",
       "    </tr>\n",
       "    <tr>\n",
       "      <th>2</th>\n",
       "      <td>12348.0</td>\n",
       "      <td>1797.24</td>\n",
       "    </tr>\n",
       "    <tr>\n",
       "      <th>3</th>\n",
       "      <td>12349.0</td>\n",
       "      <td>1757.55</td>\n",
       "    </tr>\n",
       "    <tr>\n",
       "      <th>4</th>\n",
       "      <td>12350.0</td>\n",
       "      <td>334.40</td>\n",
       "    </tr>\n",
       "  </tbody>\n",
       "</table>\n",
       "</div>"
      ],
      "text/plain": [
       "   CustomerID  TotalQuanity\n",
       "0     12346.0      77183.60\n",
       "1     12347.0       4310.00\n",
       "2     12348.0       1797.24\n",
       "3     12349.0       1757.55\n",
       "4     12350.0        334.40"
      ]
     },
     "execution_count": 209,
     "metadata": {},
     "output_type": "execute_result"
    }
   ],
   "source": [
    "monetary_df = data.groupby(by = 'CustomerID',as_index=False).agg({'TotalQuantity':'sum'})\n",
    "monetary_df.columns = ['CustomerID','TotalQuanity']\n",
    "monetary_df.head(5)"
   ]
  },
  {
   "cell_type": "markdown",
   "id": "9ce2f005",
   "metadata": {},
   "source": [
    "Create RFM Table"
   ]
  },
  {
   "cell_type": "code",
   "execution_count": 210,
   "id": "2acb5083",
   "metadata": {},
   "outputs": [
    {
     "data": {
      "text/html": [
       "<div>\n",
       "<style scoped>\n",
       "    .dataframe tbody tr th:only-of-type {\n",
       "        vertical-align: middle;\n",
       "    }\n",
       "\n",
       "    .dataframe tbody tr th {\n",
       "        vertical-align: top;\n",
       "    }\n",
       "\n",
       "    .dataframe thead th {\n",
       "        text-align: right;\n",
       "    }\n",
       "</style>\n",
       "<table border=\"1\" class=\"dataframe\">\n",
       "  <thead>\n",
       "    <tr style=\"text-align: right;\">\n",
       "      <th></th>\n",
       "      <th>Recency</th>\n",
       "      <th>Frequency</th>\n",
       "      <th>TotalQuanity</th>\n",
       "    </tr>\n",
       "    <tr>\n",
       "      <th>CustomerID</th>\n",
       "      <th></th>\n",
       "      <th></th>\n",
       "      <th></th>\n",
       "    </tr>\n",
       "  </thead>\n",
       "  <tbody>\n",
       "    <tr>\n",
       "      <th>12346.0</th>\n",
       "      <td>3970</td>\n",
       "      <td>1</td>\n",
       "      <td>77183.60</td>\n",
       "    </tr>\n",
       "    <tr>\n",
       "      <th>12347.0</th>\n",
       "      <td>3647</td>\n",
       "      <td>7</td>\n",
       "      <td>4310.00</td>\n",
       "    </tr>\n",
       "    <tr>\n",
       "      <th>12348.0</th>\n",
       "      <td>3720</td>\n",
       "      <td>4</td>\n",
       "      <td>1797.24</td>\n",
       "    </tr>\n",
       "    <tr>\n",
       "      <th>12349.0</th>\n",
       "      <td>3663</td>\n",
       "      <td>1</td>\n",
       "      <td>1757.55</td>\n",
       "    </tr>\n",
       "    <tr>\n",
       "      <th>12350.0</th>\n",
       "      <td>3955</td>\n",
       "      <td>1</td>\n",
       "      <td>334.40</td>\n",
       "    </tr>\n",
       "  </tbody>\n",
       "</table>\n",
       "</div>"
      ],
      "text/plain": [
       "            Recency  Frequency  TotalQuanity\n",
       "CustomerID                                  \n",
       "12346.0        3970          1      77183.60\n",
       "12347.0        3647          7       4310.00\n",
       "12348.0        3720          4       1797.24\n",
       "12349.0        3663          1       1757.55\n",
       "12350.0        3955          1        334.40"
      ]
     },
     "execution_count": 210,
     "metadata": {},
     "output_type": "execute_result"
    }
   ],
   "source": [
    "rfm_df = recency_df.merge(frequency_df,on='CustomerID').merge(monetary_df,on='CustomerID')\n",
    "rfm_df.set_index('CustomerID',inplace=True)\n",
    "rfm_df.head(5)"
   ]
  },
  {
   "cell_type": "code",
   "execution_count": 211,
   "id": "dd1c1b5d",
   "metadata": {},
   "outputs": [
    {
     "data": {
      "text/plain": [
       "(4339, 3)"
      ]
     },
     "execution_count": 211,
     "metadata": {},
     "output_type": "execute_result"
    }
   ],
   "source": [
    "features = rfm_df.columns\n",
    "rfm_df.shape"
   ]
  },
  {
   "cell_type": "markdown",
   "id": "1ed355df",
   "metadata": {},
   "source": [
    "RFM Table Visualisation"
   ]
  },
  {
   "cell_type": "markdown",
   "id": "3ebd4687",
   "metadata": {},
   "source": [
    "Now we will look at the correlation between the the Recency, Frequency and Monetary part of the RFM table which will be an integral part of customer segmentation"
   ]
  },
  {
   "cell_type": "code",
   "execution_count": 212,
   "id": "4f122d37",
   "metadata": {},
   "outputs": [
    {
     "name": "stdout",
     "output_type": "stream",
     "text": [
      "               Recency  Frequency  TotalQuanity\n",
      "Recency       1.000000  -0.260459     -0.122190\n",
      "Frequency    -0.260459   1.000000      0.554094\n",
      "TotalQuanity -0.122190   0.554094      1.000000\n"
     ]
    },
    {
     "data": {
      "text/plain": [
       "<AxesSubplot:>"
      ]
     },
     "execution_count": 212,
     "metadata": {},
     "output_type": "execute_result"
    },
    {
     "data": {
      "image/png": "[encoded data removed]",
      "text/plain": [
       "<Figure size 432x288 with 2 Axes>"
      ]
     },
     "metadata": {
      "needs_background": "light"
     },
     "output_type": "display_data"
    }
   ],
   "source": [
    "print(rfm_df.corr())\n",
    "sns.heatmap(rfm_df.corr(),cmap=\"YlGnBu\",annot=True)"
   ]
  },
  {
   "cell_type": "markdown",
   "id": "27f4d718",
   "metadata": {},
   "source": [
    "Power transforms are a family of parametric, monotonic transformations that are applied to make data more Gaussian-like. This is useful for modeling issues related to heteroscedasticity (non-constant variance), or other situations where normality is desired."
   ]
  },
  {
   "cell_type": "code",
   "execution_count": 213,
   "id": "b1e2ad8c",
   "metadata": {},
   "outputs": [
    {
     "name": "stderr",
     "output_type": "stream",
     "text": [
      "C:\\Users\\sachn\\anaconda3\\lib\\site-packages\\sklearn\\preprocessing\\_data.py:3237: RuntimeWarning: divide by zero encountered in log\n",
      "  loglike = -n_samples / 2 * np.log(x_trans.var())\n"
     ]
    },
    {
     "data": {
      "text/html": [
       "<div>\n",
       "<style scoped>\n",
       "    .dataframe tbody tr th:only-of-type {\n",
       "        vertical-align: middle;\n",
       "    }\n",
       "\n",
       "    .dataframe tbody tr th {\n",
       "        vertical-align: top;\n",
       "    }\n",
       "\n",
       "    .dataframe thead th {\n",
       "        text-align: right;\n",
       "    }\n",
       "</style>\n",
       "<table border=\"1\" class=\"dataframe\">\n",
       "  <thead>\n",
       "    <tr style=\"text-align: right;\">\n",
       "      <th></th>\n",
       "      <th>Recency</th>\n",
       "      <th>Frequency</th>\n",
       "      <th>TotalQuanity</th>\n",
       "    </tr>\n",
       "  </thead>\n",
       "  <tbody>\n",
       "    <tr>\n",
       "      <th>0</th>\n",
       "      <td>0.0</td>\n",
       "      <td>-1.158092</td>\n",
       "      <td>3.193082</td>\n",
       "    </tr>\n",
       "    <tr>\n",
       "      <th>1</th>\n",
       "      <td>0.0</td>\n",
       "      <td>1.202204</td>\n",
       "      <td>1.377477</td>\n",
       "    </tr>\n",
       "    <tr>\n",
       "      <th>2</th>\n",
       "      <td>0.0</td>\n",
       "      <td>0.661012</td>\n",
       "      <td>0.745038</td>\n",
       "    </tr>\n",
       "    <tr>\n",
       "      <th>3</th>\n",
       "      <td>0.0</td>\n",
       "      <td>-1.158092</td>\n",
       "      <td>0.728345</td>\n",
       "    </tr>\n",
       "    <tr>\n",
       "      <th>4</th>\n",
       "      <td>0.0</td>\n",
       "      <td>-1.158092</td>\n",
       "      <td>-0.592290</td>\n",
       "    </tr>\n",
       "  </tbody>\n",
       "</table>\n",
       "</div>"
      ],
      "text/plain": [
       "   Recency  Frequency  TotalQuanity\n",
       "0      0.0  -1.158092      3.193082\n",
       "1      0.0   1.202204      1.377477\n",
       "2      0.0   0.661012      0.745038\n",
       "3      0.0  -1.158092      0.728345\n",
       "4      0.0  -1.158092     -0.592290"
      ]
     },
     "execution_count": 213,
     "metadata": {},
     "output_type": "execute_result"
    }
   ],
   "source": [
    "from sklearn.preprocessing import PowerTransformer\n",
    "pt = PowerTransformer()\n",
    "rfm_df = pd.DataFrame(pt.fit_transform(rfm_df))\n",
    "rfm_df.columns = features\n",
    "rfm_df.head()"
   ]
  },
  {
   "cell_type": "markdown",
   "id": "bea14597",
   "metadata": {},
   "source": [
    "Conclusion"
   ]
  },
  {
   "cell_type": "markdown",
   "id": "a9f5da43",
   "metadata": {},
   "source": [
    "To gain even further insight into customer behavior, we can dig deeper in the relationship between RFM variables."
   ]
  },
  {
   "cell_type": "markdown",
   "id": "d8c033d2",
   "metadata": {},
   "source": [
    "RFM model can be used in conjunction with certain predictive models like K-means clustering, Logistic Regression and Recommendation Engines to produce better informative results on customer behavior.\n",
    "\n",
    "We will go for K-means since it has been widely used for Market Segmentation and it offers the advantage of being simple to implement."
   ]
  },
  {
   "cell_type": "markdown",
   "id": "5e34bd88",
   "metadata": {},
   "source": [
    "# PCA"
   ]
  },
  {
   "cell_type": "markdown",
   "id": "be651315",
   "metadata": {},
   "source": [
    "Applying PCA to reduce the the dimensions and the correlation between Frequency and Monetary features."
   ]
  },
  {
   "cell_type": "code",
   "execution_count": 214,
   "id": "0943da8a",
   "metadata": {},
   "outputs": [
    {
     "data": {
      "text/plain": [
       "array([[ 0.        , -1.15809198,  3.19308246],\n",
       "       [ 0.        ,  1.20220365,  1.37747719],\n",
       "       [ 0.        ,  0.66101158,  0.74503797],\n",
       "       ...,\n",
       "       [ 0.        , -0.19547892, -1.13700823],\n",
       "       [ 0.        ,  1.75054386,  0.858842  ],\n",
       "       [ 0.        ,  0.3275373 ,  0.76148119]])"
      ]
     },
     "execution_count": 214,
     "metadata": {},
     "output_type": "execute_result"
    }
   ],
   "source": [
    "from sklearn.preprocessing import StandardScaler\n",
    "sc = StandardScaler()\n",
    "rfm_scaled = sc.fit_transform(rfm_df)\n",
    "rfm_scaled"
   ]
  },
  {
   "cell_type": "code",
   "execution_count": 215,
   "id": "a960497a",
   "metadata": {},
   "outputs": [],
   "source": [
    "from sklearn.decomposition import PCA\n",
    "pca = PCA()\n",
    "pca_tranformed_data = pca.fit_transform(rfm_scaled)"
   ]
  },
  {
   "cell_type": "code",
   "execution_count": 216,
   "id": "c5ba8e45",
   "metadata": {},
   "outputs": [
    {
     "data": {
      "text/plain": [
       "array([[-0.        , -0.70710678, -0.70710678],\n",
       "       [ 0.        ,  0.70710678, -0.70710678],\n",
       "       [ 1.        ,  0.        ,  0.        ]])"
      ]
     },
     "execution_count": 216,
     "metadata": {},
     "output_type": "execute_result"
    }
   ],
   "source": [
    "pca.components_"
   ]
  },
  {
   "cell_type": "code",
   "execution_count": 217,
   "id": "e8a5db98",
   "metadata": {},
   "outputs": [
    {
     "data": {
      "text/plain": [
       "array([1.7869312 , 0.21352984, 0.        ])"
      ]
     },
     "execution_count": 217,
     "metadata": {},
     "output_type": "execute_result"
    }
   ],
   "source": [
    "pca.explained_variance_"
   ]
  },
  {
   "cell_type": "code",
   "execution_count": 218,
   "id": "b90f635b",
   "metadata": {},
   "outputs": [
    {
     "data": {
      "text/plain": [
       "array([0.89325969, 0.10674031, 0.        ])"
      ]
     },
     "execution_count": 218,
     "metadata": {},
     "output_type": "execute_result"
    }
   ],
   "source": [
    "var_exp = pca.explained_variance_ratio_\n",
    "var_exp"
   ]
  },
  {
   "cell_type": "markdown",
   "id": "40258e6a",
   "metadata": {},
   "source": [
    "# Model Training"
   ]
  },
  {
   "cell_type": "code",
   "execution_count": 219,
   "id": "f2cbfe98",
   "metadata": {},
   "outputs": [
    {
     "data": {
      "text/html": [
       "<div>\n",
       "<style scoped>\n",
       "    .dataframe tbody tr th:only-of-type {\n",
       "        vertical-align: middle;\n",
       "    }\n",
       "\n",
       "    .dataframe tbody tr th {\n",
       "        vertical-align: top;\n",
       "    }\n",
       "\n",
       "    .dataframe thead th {\n",
       "        text-align: right;\n",
       "    }\n",
       "</style>\n",
       "<table border=\"1\" class=\"dataframe\">\n",
       "  <thead>\n",
       "    <tr style=\"text-align: right;\">\n",
       "      <th></th>\n",
       "      <th>0</th>\n",
       "      <th>1</th>\n",
       "    </tr>\n",
       "  </thead>\n",
       "  <tbody>\n",
       "    <tr>\n",
       "      <th>0</th>\n",
       "      <td>-1.438956</td>\n",
       "      <td>-3.076745</td>\n",
       "    </tr>\n",
       "    <tr>\n",
       "      <th>1</th>\n",
       "      <td>-1.824110</td>\n",
       "      <td>-0.123937</td>\n",
       "    </tr>\n",
       "    <tr>\n",
       "      <th>2</th>\n",
       "      <td>-0.994227</td>\n",
       "      <td>-0.059416</td>\n",
       "    </tr>\n",
       "    <tr>\n",
       "      <th>3</th>\n",
       "      <td>0.303877</td>\n",
       "      <td>-1.333913</td>\n",
       "    </tr>\n",
       "    <tr>\n",
       "      <th>4</th>\n",
       "      <td>1.237707</td>\n",
       "      <td>-0.400083</td>\n",
       "    </tr>\n",
       "  </tbody>\n",
       "</table>\n",
       "</div>"
      ],
      "text/plain": [
       "          0         1\n",
       "0 -1.438956 -3.076745\n",
       "1 -1.824110 -0.123937\n",
       "2 -0.994227 -0.059416\n",
       "3  0.303877 -1.333913\n",
       "4  1.237707 -0.400083"
      ]
     },
     "execution_count": 219,
     "metadata": {},
     "output_type": "execute_result"
    }
   ],
   "source": [
    "X = rfm_df.copy()\n",
    "pca = PCA(n_components = 2)\n",
    "df_pca = pca.fit_transform(X)\n",
    "\n",
    "df_pca = pd.DataFrame(df_pca)\n",
    "df_pca.head(5)"
   ]
  },
  {
   "cell_type": "markdown",
   "id": "c43da3ed",
   "metadata": {},
   "source": [
    "### 4.Perform k-means on this dataset for customer segments. Customer segments help determine what types of people buy your product, which allows you to target more people like your usual customers. Should you look at all the data, or which subset of data should you use? What is the ideal number of clusters? Which approach did you use to find the ideal number of clusters and why?\n"
   ]
  },
  {
   "cell_type": "markdown",
   "id": "e1936fc1",
   "metadata": {},
   "source": [
    "# K-Means Clustering"
   ]
  },
  {
   "cell_type": "code",
   "execution_count": 220,
   "id": "ae7fb3ce",
   "metadata": {},
   "outputs": [],
   "source": [
    "X = df_pca.copy()"
   ]
  },
  {
   "cell_type": "code",
   "execution_count": 226,
   "id": "2cbc1c69",
   "metadata": {},
   "outputs": [
    {
     "data": {
      "text/html": [
       "<div>\n",
       "<style scoped>\n",
       "    .dataframe tbody tr th:only-of-type {\n",
       "        vertical-align: middle;\n",
       "    }\n",
       "\n",
       "    .dataframe tbody tr th {\n",
       "        vertical-align: top;\n",
       "    }\n",
       "\n",
       "    .dataframe thead th {\n",
       "        text-align: right;\n",
       "    }\n",
       "</style>\n",
       "<table border=\"1\" class=\"dataframe\">\n",
       "  <thead>\n",
       "    <tr style=\"text-align: right;\">\n",
       "      <th></th>\n",
       "      <th>num_clusters</th>\n",
       "      <th>cluster_errors</th>\n",
       "    </tr>\n",
       "  </thead>\n",
       "  <tbody>\n",
       "    <tr>\n",
       "      <th>0</th>\n",
       "      <td>1</td>\n",
       "      <td>8678.000000</td>\n",
       "    </tr>\n",
       "    <tr>\n",
       "      <th>1</th>\n",
       "      <td>2</td>\n",
       "      <td>3167.406531</td>\n",
       "    </tr>\n",
       "    <tr>\n",
       "      <th>2</th>\n",
       "      <td>3</td>\n",
       "      <td>2006.354232</td>\n",
       "    </tr>\n",
       "    <tr>\n",
       "      <th>3</th>\n",
       "      <td>4</td>\n",
       "      <td>1574.253188</td>\n",
       "    </tr>\n",
       "    <tr>\n",
       "      <th>4</th>\n",
       "      <td>5</td>\n",
       "      <td>1182.757573</td>\n",
       "    </tr>\n",
       "    <tr>\n",
       "      <th>5</th>\n",
       "      <td>6</td>\n",
       "      <td>1001.370729</td>\n",
       "    </tr>\n",
       "    <tr>\n",
       "      <th>6</th>\n",
       "      <td>7</td>\n",
       "      <td>858.942916</td>\n",
       "    </tr>\n",
       "    <tr>\n",
       "      <th>7</th>\n",
       "      <td>8</td>\n",
       "      <td>750.744688</td>\n",
       "    </tr>\n",
       "    <tr>\n",
       "      <th>8</th>\n",
       "      <td>9</td>\n",
       "      <td>666.428165</td>\n",
       "    </tr>\n",
       "    <tr>\n",
       "      <th>9</th>\n",
       "      <td>10</td>\n",
       "      <td>582.988508</td>\n",
       "    </tr>\n",
       "  </tbody>\n",
       "</table>\n",
       "</div>"
      ],
      "text/plain": [
       "   num_clusters  cluster_errors\n",
       "0             1     8678.000000\n",
       "1             2     3167.406531\n",
       "2             3     2006.354232\n",
       "3             4     1574.253188\n",
       "4             5     1182.757573\n",
       "5             6     1001.370729\n",
       "6             7      858.942916\n",
       "7             8      750.744688\n",
       "8             9      666.428165\n",
       "9            10      582.988508"
      ]
     },
     "execution_count": 226,
     "metadata": {},
     "output_type": "execute_result"
    }
   ],
   "source": [
    "from sklearn.cluster import KMeans \n",
    "\n",
    "cluster_range = range(1, 15)\n",
    "cluster_errors = []\n",
    "cluster_sil_scores = []\n",
    "\n",
    "for num in cluster_range: \n",
    "    clusters = KMeans(num, n_init = 100,init='k-means++',random_state=0)\n",
    "    clusters.fit(X)\n",
    "    # capture the cluster lables\n",
    "    labels = clusters.labels_  \n",
    "    # capture the centroids\n",
    "    centroids = clusters.cluster_centers_ \n",
    "    # capture the intertia\n",
    "    cluster_errors.append( clusters.inertia_ )    \n",
    "clusters_df = pd.DataFrame({ \"num_clusters\":cluster_range, \"cluster_errors\": cluster_errors} )\n",
    "clusters_df[0:10]"
   ]
  },
  {
   "cell_type": "code",
   "execution_count": 156,
   "id": "b33f4a57",
   "metadata": {},
   "outputs": [
    {
     "data": {
      "text/plain": [
       "Text(0, 0.5, 'error')"
      ]
     },
     "execution_count": 156,
     "metadata": {},
     "output_type": "execute_result"
    },
    {
     "data": {
      "image/png": "[encoded data removed]",
      "text/plain": [
       "<Figure size 1080x432 with 1 Axes>"
      ]
     },
     "metadata": {
      "needs_background": "light"
     },
     "output_type": "display_data"
    }
   ],
   "source": [
    "plt.figure(figsize=(15,6))\n",
    "plt.plot(clusters_df[\"num_clusters\"],clusters_df[\"cluster_errors\"],marker = 'o')\n",
    "plt.xlabel('count of clusters')\n",
    "plt.ylabel('error')"
   ]
  },
  {
   "cell_type": "code",
   "execution_count": 157,
   "id": "c3cdd16f",
   "metadata": {},
   "outputs": [
    {
     "name": "stdout",
     "output_type": "stream",
     "text": [
      "For 2 The Silhouette Score is = 0.5316173538263714\n",
      "For 3 The Silhouette Score is = 0.4693803387603819\n",
      "For 4 The Silhouette Score is = 0.44898330826905647\n",
      "For 5 The Silhouette Score is = 0.43620408303781916\n",
      "For 6 The Silhouette Score is = 0.42830129932398614\n",
      "For 7 The Silhouette Score is = 0.435518037687719\n",
      "For 8 The Silhouette Score is = 0.43932270523485933\n",
      "For 9 The Silhouette Score is = 0.44482480679312464\n",
      "For 10 The Silhouette Score is = 0.4373032413660648\n",
      "For 11 The Silhouette Score is = 0.4439230102906327\n",
      "For 12 The Silhouette Score is = 0.4413805303543545\n",
      "For 13 The Silhouette Score is = 0.43678789059650036\n",
      "For 14 The Silhouette Score is = 0.443971421874202\n",
      "For 15 The Silhouette Score is = 0.4436569457463185\n"
     ]
    }
   ],
   "source": [
    "from sklearn.metrics import silhouette_samples, silhouette_score\n",
    "for num in range(2,16):\n",
    "    clusters = KMeans(n_clusters=num,random_state=0)\n",
    "    labels = clusters.fit_predict(df_pca)\n",
    "    \n",
    "    sil_avg = silhouette_score(df_pca, labels)\n",
    "    print('For',num,'The Silhouette Score is =',sil_avg)"
   ]
  },
  {
   "cell_type": "markdown",
   "id": "c6fa03c5",
   "metadata": {},
   "source": [
    "Inferences"
   ]
  },
  {
   "cell_type": "markdown",
   "id": "35ba19c3",
   "metadata": {},
   "source": [
    "We observe from the elbow plot a sharp bend after the number of clusters increase by 2. Silhoutte Score is also the highest for 2 clusters.\n",
    "\n",
    "But, there is also a significant reduce in cluster error as number of clusters increase from 2 to 6 and after 6, the reduction is not much.\n",
    "\n",
    "So, we will choose n_clusters = 6 to properly segment our customers."
   ]
  },
  {
   "cell_type": "code",
   "execution_count": 158,
   "id": "06cd3945",
   "metadata": {},
   "outputs": [
    {
     "name": "stdout",
     "output_type": "stream",
     "text": [
      "[2 2 3 ... 4 3 0]\n",
      "\n",
      "Cluster Centers\n",
      "[[-0.26450202 -0.00624455]\n",
      " [ 1.83518174  0.21909488]\n",
      " [-2.37814639 -0.06800714]\n",
      " [-1.25951317  0.13617576]\n",
      " [ 0.49972413  0.40625753]\n",
      " [ 1.07056582 -0.56722356]]\n"
     ]
    }
   ],
   "source": [
    "kmeans = KMeans(n_clusters = 6)\n",
    "kmeans = kmeans.fit(df_pca)\n",
    "labels = kmeans.predict(df_pca)\n",
    "centroids = kmeans.cluster_centers_\n",
    "\n",
    "print(labels)\n",
    "print()\n",
    "print('Cluster Centers')\n",
    "print(centroids)"
   ]
  },
  {
   "cell_type": "code",
   "execution_count": 159,
   "id": "a70b1f12",
   "metadata": {},
   "outputs": [
    {
     "data": {
      "text/html": [
       "<div>\n",
       "<style scoped>\n",
       "    .dataframe tbody tr th:only-of-type {\n",
       "        vertical-align: middle;\n",
       "    }\n",
       "\n",
       "    .dataframe tbody tr th {\n",
       "        vertical-align: top;\n",
       "    }\n",
       "\n",
       "    .dataframe thead th {\n",
       "        text-align: right;\n",
       "    }\n",
       "</style>\n",
       "<table border=\"1\" class=\"dataframe\">\n",
       "  <thead>\n",
       "    <tr style=\"text-align: right;\">\n",
       "      <th></th>\n",
       "      <th>0</th>\n",
       "      <th>1</th>\n",
       "      <th>Clusters</th>\n",
       "    </tr>\n",
       "  </thead>\n",
       "  <tbody>\n",
       "    <tr>\n",
       "      <th>0</th>\n",
       "      <td>-1.438956</td>\n",
       "      <td>-3.076745</td>\n",
       "      <td>2</td>\n",
       "    </tr>\n",
       "    <tr>\n",
       "      <th>1</th>\n",
       "      <td>-1.824110</td>\n",
       "      <td>-0.123937</td>\n",
       "      <td>2</td>\n",
       "    </tr>\n",
       "    <tr>\n",
       "      <th>2</th>\n",
       "      <td>-0.994227</td>\n",
       "      <td>-0.059416</td>\n",
       "      <td>3</td>\n",
       "    </tr>\n",
       "    <tr>\n",
       "      <th>3</th>\n",
       "      <td>0.303877</td>\n",
       "      <td>-1.333913</td>\n",
       "      <td>5</td>\n",
       "    </tr>\n",
       "    <tr>\n",
       "      <th>4</th>\n",
       "      <td>1.237707</td>\n",
       "      <td>-0.400083</td>\n",
       "      <td>5</td>\n",
       "    </tr>\n",
       "  </tbody>\n",
       "</table>\n",
       "</div>"
      ],
      "text/plain": [
       "          0         1  Clusters\n",
       "0 -1.438956 -3.076745         2\n",
       "1 -1.824110 -0.123937         2\n",
       "2 -0.994227 -0.059416         3\n",
       "3  0.303877 -1.333913         5\n",
       "4  1.237707 -0.400083         5"
      ]
     },
     "execution_count": 159,
     "metadata": {},
     "output_type": "execute_result"
    }
   ],
   "source": [
    "df_pca['Clusters'] = labels\n",
    "df_pca.head()"
   ]
  },
  {
   "cell_type": "code",
   "execution_count": 160,
   "id": "b448df75",
   "metadata": {},
   "outputs": [
    {
     "data": {
      "text/plain": [
       "0    964\n",
       "3    924\n",
       "5    812\n",
       "1    691\n",
       "4    534\n",
       "2    414\n",
       "Name: Clusters, dtype: int64"
      ]
     },
     "execution_count": 160,
     "metadata": {},
     "output_type": "execute_result"
    }
   ],
   "source": [
    "df_pca['Clusters'].value_counts()"
   ]
  },
  {
   "cell_type": "code",
   "execution_count": 161,
   "id": "3fa96d98",
   "metadata": {},
   "outputs": [
    {
     "name": "stdout",
     "output_type": "stream",
     "text": [
      "confussion matrix\n",
      "[[285   0   1   0   3   0]\n",
      " [  0 207   0   0   0   1]\n",
      " [  0   0 122   2   0   0]\n",
      " [  0   0   2 275   0   0]\n",
      " [  1   1   0   0 158   0]\n",
      " [  0   0   0   0   0 244]]\n"
     ]
    }
   ],
   "source": [
    "from sklearn.model_selection import KFold, cross_val_score, train_test_split\n",
    "from sklearn.tree import DecisionTreeClassifier\n",
    "from sklearn.metrics import confusion_matrix\n",
    "X = df_pca[[0,1]]\n",
    "Y = df_pca['Clusters']\n",
    "\n",
    "X_train, X_test, y_train, y_test = train_test_split(X, Y, test_size=0.3, random_state=42, stratify=Y)\n",
    "\n",
    "# instantiate the model\n",
    "dc=DecisionTreeClassifier()\n",
    "#knn=KNeighborsClassifier(1)\n",
    "# train a Gaussian Naive Bayes classifier on the training set\n",
    "#from sklearn.naive_bayes import GaussianNB\n",
    "#gnb = GaussianNB()\n",
    "\n",
    "\n",
    "m6 = 'DecisionTreeClassifier'\n",
    "dt = DecisionTreeClassifier(criterion = 'entropy',random_state=0,max_depth = 6)\n",
    "dt.fit(X_train, y_train)\n",
    "dt_predicted = dt.predict(X_test)\n",
    "dt_conf_matrix = confusion_matrix(y_test, dt_predicted)\n",
    "print(\"confussion matrix\")\n",
    "print(dt_conf_matrix)"
   ]
  },
  {
   "cell_type": "code",
   "execution_count": 162,
   "id": "dd8b395a",
   "metadata": {},
   "outputs": [
    {
     "name": "stdout",
     "output_type": "stream",
     "text": [
      "Accuracy of DecisionTreeClassifier: 99.15514592933948\n"
     ]
    }
   ],
   "source": [
    "from sklearn.metrics import accuracy_score\n",
    "dt_acc_score = accuracy_score(y_test, dt_predicted)\n",
    "print(\"Accuracy of DecisionTreeClassifier:\",dt_acc_score*100)\n"
   ]
  },
  {
   "cell_type": "code",
   "execution_count": 163,
   "id": "3d2f2f29",
   "metadata": {},
   "outputs": [
    {
     "name": "stdout",
     "output_type": "stream",
     "text": [
      "              precision    recall  f1-score   support\n",
      "\n",
      "           0       1.00      0.99      0.99       289\n",
      "           1       1.00      1.00      1.00       208\n",
      "           2       0.98      0.98      0.98       124\n",
      "           3       0.99      0.99      0.99       277\n",
      "           4       0.98      0.99      0.98       160\n",
      "           5       1.00      1.00      1.00       244\n",
      "\n",
      "    accuracy                           0.99      1302\n",
      "   macro avg       0.99      0.99      0.99      1302\n",
      "weighted avg       0.99      0.99      0.99      1302\n",
      "\n"
     ]
    }
   ],
   "source": [
    "from sklearn.metrics import classification_report\n",
    "print(classification_report(y_test,dt_predicted))"
   ]
  },
  {
   "cell_type": "markdown",
   "id": "1a9091f0",
   "metadata": {},
   "source": [
    "# Conclusion"
   ]
  },
  {
   "cell_type": "markdown",
   "id": "2e22f7f3",
   "metadata": {},
   "source": [
    "We saw that using classification models like DecisionTree we predicted the clusters for customers using RFM dataset as independent variables and Cluster as the target variable. The clusters predicted by the classification models perfectly aligns with K-Means clustering. So, we can conclude that our clusters are correct."
   ]
  },
  {
   "cell_type": "markdown",
   "id": "d8d7da38",
   "metadata": {},
   "source": [
    " this database providing details on purchases made on an E-commerce platform over a period of one year. Each entry in the dataset describes the purchase of a product, by a particular customer and at a given date.\n",
    "\n",
    "the analysis was the customer segmentation part. The main way to go around with this procces is to use the RFM (Recency, Frequency, Monetory) table to sort the customer in the groups. After creating the RFM table I used K-Means clustering (Elbow curve and Silhoutte scores) in order to create 6 clusters in which the customers should be Segmented. After each of the customers were segmented into their respective groups. I used model DecisionTree in order the cross the accuracy of the clustering which resulted in an accuracy score 0.99 Hence, I conclude the customer segmentation was done which effective methods and high accuracy."
   ]
  },
  {
   "cell_type": "markdown",
   "id": "ab6c9511",
   "metadata": {},
   "source": [
    "### 5.Perform hierarchical clustering for customer segments. What is the ideal number of clusters? Which approach did you use to find the ideal number of clusters and why?"
   ]
  },
  {
   "cell_type": "markdown",
   "id": "a290cf86",
   "metadata": {},
   "source": [
    "# Hierarchical"
   ]
  },
  {
   "cell_type": "code",
   "execution_count": 165,
   "id": "cf70d1e1",
   "metadata": {},
   "outputs": [
    {
     "data": {
      "image/png": "[encoded data removed]",
      "text/plain": [
       "<Figure size 720x504 with 1 Axes>"
      ]
     },
     "metadata": {
      "needs_background": "light"
     },
     "output_type": "display_data"
    }
   ],
   "source": [
    "from scipy.cluster.hierarchy import dendrogram, linkage\n",
    "X = df_pca[[0,1]]\n",
    "Y = df_pca['Clusters']\n",
    "\n",
    "X_train, X_test, y_train, y_test = train_test_split(X, Y, test_size=0.3, random_state=42, stratify=Y)\n",
    "\n",
    "linked = linkage(X,'ward')\n",
    "plt.figure(figsize=(10,7))\n",
    "\n",
    "dendro = dendrogram(linked, labels=list(Y))\n",
    "plt.show()"
   ]
  },
  {
   "cell_type": "markdown",
   "id": "f0cc51d0",
   "metadata": {},
   "source": [
    "# Agglomerative Clustering"
   ]
  },
  {
   "cell_type": "code",
   "execution_count": 166,
   "id": "9a81d7b8",
   "metadata": {},
   "outputs": [
    {
     "data": {
      "text/plain": [
       "array([0, 2, 2, ..., 5, 2, 0], dtype=int64)"
      ]
     },
     "execution_count": 166,
     "metadata": {},
     "output_type": "execute_result"
    }
   ],
   "source": [
    "from sklearn.cluster import AgglomerativeClustering\n",
    "cluster = AgglomerativeClustering(n_clusters=6, affinity='euclidean',linkage='ward')\n",
    "cluster.fit_predict(X)"
   ]
  },
  {
   "cell_type": "code",
   "execution_count": 169,
   "id": "ecb4fb47",
   "metadata": {},
   "outputs": [
    {
     "name": "stdout",
     "output_type": "stream",
     "text": [
      "[4 1 0 ... 0 3 0]\n",
      "test accuracy: 0.9754224270353302\n",
      "train accuracy: 0.9634507737899243\n"
     ]
    }
   ],
   "source": [
    "from sklearn.linear_model import LogisticRegression\n",
    "#Standardize\n",
    "sc= StandardScaler()\n",
    "X_train=sc.fit_transform(X_train)\n",
    "X_test=sc.fit_transform(X_test)\n",
    "\n",
    "# Logistic Regression\n",
    "clr = LogisticRegression(random_state=42).fit(X_train, y_train)\n",
    "\n",
    "#predict\n",
    "y_predicted= clr.predict(X_test)\n",
    "print(y_predicted)\n",
    "\n",
    "# Print the accuracy\n",
    "print(\"test accuracy: \" + str(clr.score(X_test, y_test)))\n",
    "\n",
    "# Print the accuracy\n",
    "print(\"train accuracy: \" + str(clr.score(X_train, y_train)))"
   ]
  },
  {
   "cell_type": "code",
   "execution_count": 170,
   "id": "dfbd6858",
   "metadata": {},
   "outputs": [
    {
     "data": {
      "text/plain": [
       "<sklearn.metrics._plot.confusion_matrix.ConfusionMatrixDisplay at 0x209b5e3edc0>"
      ]
     },
     "execution_count": 170,
     "metadata": {},
     "output_type": "execute_result"
    },
    {
     "data": {
      "image/png": "[encoded data removed]",
      "text/plain": [
       "<Figure size 432x288 with 2 Axes>"
      ]
     },
     "metadata": {
      "needs_background": "light"
     },
     "output_type": "display_data"
    }
   ],
   "source": [
    "from sklearn.metrics import confusion_matrix, plot_confusion_matrix,classification_report\n",
    "plot_confusion_matrix(clr, X_test, y_test)"
   ]
  },
  {
   "cell_type": "markdown",
   "id": "83a75b98",
   "metadata": {},
   "source": [
    "### 6.Compare the results of 4 and 5. Which approach do you think is best? Why?\n"
   ]
  },
  {
   "cell_type": "markdown",
   "id": "52d27c52",
   "metadata": {},
   "source": [
    "we have analysed Customer data and performed Hierarchical Clustering using Agglomerative Clustering Algorithm. This kind of cluster analysis helps design better customer acquisition strategies and helps in business growth."
   ]
  },
  {
   "cell_type": "markdown",
   "id": "8ba1e20c",
   "metadata": {},
   "source": [
    "I conclude the customer segmentation using (K-Means Clustering) was done which effective methods and high accuracy rather than Hierarchicalclustering."
   ]
  }
 ],
 "metadata": {
  "kernelspec": {
   "display_name": "Python 3",
   "language": "python",
   "name": "python3"
  },
  "language_info": {
   "codemirror_mode": {
    "name": "ipython",
    "version": 3
   },
   "file_extension": ".py",
   "mimetype": "text/x-python",
   "name": "python",
   "nbconvert_exporter": "python",
   "pygments_lexer": "ipython3",
   "version": "3.8.8"
  }
 },
 "nbformat": 4,
 "nbformat_minor": 5
}
